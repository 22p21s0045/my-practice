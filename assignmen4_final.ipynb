{
  "nbformat": 4,
  "nbformat_minor": 0,
  "metadata": {
    "colab": {
      "name": "assignmen4 final",
      "provenance": []
    },
    "kernelspec": {
      "name": "python3",
      "display_name": "Python 3"
    }
  },
  "cells": [
    {
      "cell_type": "code",
      "metadata": {
        "id": "LfGnqtMO8v-C"
      },
      "source": [
        "import numpy as np"
      ],
      "execution_count": 1,
      "outputs": []
    },
    {
      "cell_type": "code",
      "metadata": {
        "colab": {
          "base_uri": "https://localhost:8080/",
          "height": 548
        },
        "id": "WU3n20nh9BIq",
        "outputId": "26549051-5e02-46f7-a2a8-fc7209357638"
      },
      "source": [
        "n = int(input())\n",
        "o = []\n",
        "l = [int(x) for x in range(n)]\n",
        "\n"
      ],
      "execution_count": 3,
      "outputs": [
        {
          "output_type": "error",
          "ename": "KeyboardInterrupt",
          "evalue": "ignored",
          "traceback": [
            "\u001b[0;31m---------------------------------------------------------------------------\u001b[0m",
            "\u001b[0;31mKeyboardInterrupt\u001b[0m                         Traceback (most recent call last)",
            "\u001b[0;32m/usr/local/lib/python3.7/dist-packages/ipykernel/kernelbase.py\u001b[0m in \u001b[0;36m_input_request\u001b[0;34m(self, prompt, ident, parent, password)\u001b[0m\n\u001b[1;32m    728\u001b[0m             \u001b[0;32mtry\u001b[0m\u001b[0;34m:\u001b[0m\u001b[0;34m\u001b[0m\u001b[0;34m\u001b[0m\u001b[0m\n\u001b[0;32m--> 729\u001b[0;31m                 \u001b[0mident\u001b[0m\u001b[0;34m,\u001b[0m \u001b[0mreply\u001b[0m \u001b[0;34m=\u001b[0m \u001b[0mself\u001b[0m\u001b[0;34m.\u001b[0m\u001b[0msession\u001b[0m\u001b[0;34m.\u001b[0m\u001b[0mrecv\u001b[0m\u001b[0;34m(\u001b[0m\u001b[0mself\u001b[0m\u001b[0;34m.\u001b[0m\u001b[0mstdin_socket\u001b[0m\u001b[0;34m,\u001b[0m \u001b[0;36m0\u001b[0m\u001b[0;34m)\u001b[0m\u001b[0;34m\u001b[0m\u001b[0;34m\u001b[0m\u001b[0m\n\u001b[0m\u001b[1;32m    730\u001b[0m             \u001b[0;32mexcept\u001b[0m \u001b[0mException\u001b[0m\u001b[0;34m:\u001b[0m\u001b[0;34m\u001b[0m\u001b[0;34m\u001b[0m\u001b[0m\n",
            "\u001b[0;32m/usr/local/lib/python3.7/dist-packages/jupyter_client/session.py\u001b[0m in \u001b[0;36mrecv\u001b[0;34m(self, socket, mode, content, copy)\u001b[0m\n\u001b[1;32m    802\u001b[0m         \u001b[0;32mtry\u001b[0m\u001b[0;34m:\u001b[0m\u001b[0;34m\u001b[0m\u001b[0;34m\u001b[0m\u001b[0m\n\u001b[0;32m--> 803\u001b[0;31m             \u001b[0mmsg_list\u001b[0m \u001b[0;34m=\u001b[0m \u001b[0msocket\u001b[0m\u001b[0;34m.\u001b[0m\u001b[0mrecv_multipart\u001b[0m\u001b[0;34m(\u001b[0m\u001b[0mmode\u001b[0m\u001b[0;34m,\u001b[0m \u001b[0mcopy\u001b[0m\u001b[0;34m=\u001b[0m\u001b[0mcopy\u001b[0m\u001b[0;34m)\u001b[0m\u001b[0;34m\u001b[0m\u001b[0;34m\u001b[0m\u001b[0m\n\u001b[0m\u001b[1;32m    804\u001b[0m         \u001b[0;32mexcept\u001b[0m \u001b[0mzmq\u001b[0m\u001b[0;34m.\u001b[0m\u001b[0mZMQError\u001b[0m \u001b[0;32mas\u001b[0m \u001b[0me\u001b[0m\u001b[0;34m:\u001b[0m\u001b[0;34m\u001b[0m\u001b[0;34m\u001b[0m\u001b[0m\n",
            "\u001b[0;32m/usr/local/lib/python3.7/dist-packages/zmq/sugar/socket.py\u001b[0m in \u001b[0;36mrecv_multipart\u001b[0;34m(self, flags, copy, track)\u001b[0m\n\u001b[1;32m    582\u001b[0m         \"\"\"\n\u001b[0;32m--> 583\u001b[0;31m         \u001b[0mparts\u001b[0m \u001b[0;34m=\u001b[0m \u001b[0;34m[\u001b[0m\u001b[0mself\u001b[0m\u001b[0;34m.\u001b[0m\u001b[0mrecv\u001b[0m\u001b[0;34m(\u001b[0m\u001b[0mflags\u001b[0m\u001b[0;34m,\u001b[0m \u001b[0mcopy\u001b[0m\u001b[0;34m=\u001b[0m\u001b[0mcopy\u001b[0m\u001b[0;34m,\u001b[0m \u001b[0mtrack\u001b[0m\u001b[0;34m=\u001b[0m\u001b[0mtrack\u001b[0m\u001b[0;34m)\u001b[0m\u001b[0;34m]\u001b[0m\u001b[0;34m\u001b[0m\u001b[0;34m\u001b[0m\u001b[0m\n\u001b[0m\u001b[1;32m    584\u001b[0m         \u001b[0;31m# have first part already, only loop while more to receive\u001b[0m\u001b[0;34m\u001b[0m\u001b[0;34m\u001b[0m\u001b[0;34m\u001b[0m\u001b[0m\n",
            "\u001b[0;32mzmq/backend/cython/socket.pyx\u001b[0m in \u001b[0;36mzmq.backend.cython.socket.Socket.recv\u001b[0;34m()\u001b[0m\n",
            "\u001b[0;32mzmq/backend/cython/socket.pyx\u001b[0m in \u001b[0;36mzmq.backend.cython.socket.Socket.recv\u001b[0;34m()\u001b[0m\n",
            "\u001b[0;32mzmq/backend/cython/socket.pyx\u001b[0m in \u001b[0;36mzmq.backend.cython.socket._recv_copy\u001b[0;34m()\u001b[0m\n",
            "\u001b[0;32m/usr/local/lib/python3.7/dist-packages/zmq/backend/cython/checkrc.pxd\u001b[0m in \u001b[0;36mzmq.backend.cython.checkrc._check_rc\u001b[0;34m()\u001b[0m\n",
            "\u001b[0;31mKeyboardInterrupt\u001b[0m: ",
            "\nDuring handling of the above exception, another exception occurred:\n",
            "\u001b[0;31mKeyboardInterrupt\u001b[0m                         Traceback (most recent call last)",
            "\u001b[0;32m<ipython-input-3-18f99f69acb4>\u001b[0m in \u001b[0;36m<module>\u001b[0;34m()\u001b[0m\n\u001b[0;32m----> 1\u001b[0;31m \u001b[0mn\u001b[0m \u001b[0;34m=\u001b[0m \u001b[0mint\u001b[0m\u001b[0;34m(\u001b[0m\u001b[0minput\u001b[0m\u001b[0;34m(\u001b[0m\u001b[0;34m)\u001b[0m\u001b[0;34m)\u001b[0m\u001b[0;34m\u001b[0m\u001b[0;34m\u001b[0m\u001b[0m\n\u001b[0m\u001b[1;32m      2\u001b[0m \u001b[0mo\u001b[0m \u001b[0;34m=\u001b[0m \u001b[0;34m[\u001b[0m\u001b[0;34m]\u001b[0m\u001b[0;34m\u001b[0m\u001b[0;34m\u001b[0m\u001b[0m\n\u001b[1;32m      3\u001b[0m \u001b[0ml\u001b[0m \u001b[0;34m=\u001b[0m \u001b[0;34m[\u001b[0m\u001b[0mint\u001b[0m\u001b[0;34m(\u001b[0m\u001b[0mx\u001b[0m\u001b[0;34m)\u001b[0m \u001b[0;32mfor\u001b[0m \u001b[0mx\u001b[0m \u001b[0;32min\u001b[0m \u001b[0mrange\u001b[0m\u001b[0;34m(\u001b[0m\u001b[0mn\u001b[0m\u001b[0;34m)\u001b[0m\u001b[0;34m]\u001b[0m\u001b[0;34m\u001b[0m\u001b[0;34m\u001b[0m\u001b[0m\n\u001b[1;32m      4\u001b[0m \u001b[0;34m\u001b[0m\u001b[0m\n",
            "\u001b[0;32m/usr/local/lib/python3.7/dist-packages/ipykernel/kernelbase.py\u001b[0m in \u001b[0;36mraw_input\u001b[0;34m(self, prompt)\u001b[0m\n\u001b[1;32m    702\u001b[0m             \u001b[0mself\u001b[0m\u001b[0;34m.\u001b[0m\u001b[0m_parent_ident\u001b[0m\u001b[0;34m,\u001b[0m\u001b[0;34m\u001b[0m\u001b[0;34m\u001b[0m\u001b[0m\n\u001b[1;32m    703\u001b[0m             \u001b[0mself\u001b[0m\u001b[0;34m.\u001b[0m\u001b[0m_parent_header\u001b[0m\u001b[0;34m,\u001b[0m\u001b[0;34m\u001b[0m\u001b[0;34m\u001b[0m\u001b[0m\n\u001b[0;32m--> 704\u001b[0;31m             \u001b[0mpassword\u001b[0m\u001b[0;34m=\u001b[0m\u001b[0;32mFalse\u001b[0m\u001b[0;34m,\u001b[0m\u001b[0;34m\u001b[0m\u001b[0;34m\u001b[0m\u001b[0m\n\u001b[0m\u001b[1;32m    705\u001b[0m         )\n\u001b[1;32m    706\u001b[0m \u001b[0;34m\u001b[0m\u001b[0m\n",
            "\u001b[0;32m/usr/local/lib/python3.7/dist-packages/ipykernel/kernelbase.py\u001b[0m in \u001b[0;36m_input_request\u001b[0;34m(self, prompt, ident, parent, password)\u001b[0m\n\u001b[1;32m    732\u001b[0m             \u001b[0;32mexcept\u001b[0m \u001b[0mKeyboardInterrupt\u001b[0m\u001b[0;34m:\u001b[0m\u001b[0;34m\u001b[0m\u001b[0;34m\u001b[0m\u001b[0m\n\u001b[1;32m    733\u001b[0m                 \u001b[0;31m# re-raise KeyboardInterrupt, to truncate traceback\u001b[0m\u001b[0;34m\u001b[0m\u001b[0;34m\u001b[0m\u001b[0;34m\u001b[0m\u001b[0m\n\u001b[0;32m--> 734\u001b[0;31m                 \u001b[0;32mraise\u001b[0m \u001b[0mKeyboardInterrupt\u001b[0m\u001b[0;34m\u001b[0m\u001b[0;34m\u001b[0m\u001b[0m\n\u001b[0m\u001b[1;32m    735\u001b[0m             \u001b[0;32melse\u001b[0m\u001b[0;34m:\u001b[0m\u001b[0;34m\u001b[0m\u001b[0;34m\u001b[0m\u001b[0m\n\u001b[1;32m    736\u001b[0m                 \u001b[0;32mbreak\u001b[0m\u001b[0;34m\u001b[0m\u001b[0;34m\u001b[0m\u001b[0m\n",
            "\u001b[0;31mKeyboardInterrupt\u001b[0m: "
          ]
        }
      ]
    },
    {
      "cell_type": "code",
      "metadata": {
        "id": "4KZK_u8jB4cT"
      },
      "source": [
        "R = int(input(\"Enter the number of rows:\")) \n",
        "C = int(input(\"Enter the number of columns:\")) \n",
        "  \n",
        "# Initialize matrix \n",
        "matrix = [] \n",
        "print(\"Enter the entries rowwise:\") \n",
        "  \n",
        "# For user input \n",
        "for i in range(R):          # A for loop for row entries \n",
        "    a =[] \n",
        "    for j in range(C):      # A for loop for column entries \n",
        "         a.append(int(input())) \n",
        "    matrix.append(a) \n",
        "  \n",
        "# For printing the matrix \n",
        "for i in range(R): \n",
        "    for j in range(C): \n",
        "        print(matrix[i][j], end = \" \") \n",
        "    print() \n"
      ],
      "execution_count": null,
      "outputs": []
    },
    {
      "cell_type": "code",
      "metadata": {
        "id": "hIlZkli4B4VM"
      },
      "source": [
        "row_num = int(input(\"Input number of rows: \"))\n",
        "col_num = 3\n",
        "multi_list = [[0 for col in range(col_num)] for row in range(row_num)]\n",
        "\n",
        "for row in range(row_num):\n",
        "    for col in range(col_num):\n",
        "        multi_list[row][col]= row*col\n",
        "\n",
        "print(multi_list)"
      ],
      "execution_count": null,
      "outputs": []
    },
    {
      "cell_type": "code",
      "metadata": {
        "id": "BfI5bJqCF7sq"
      },
      "source": [
        "import numpy as np\n",
        "\n",
        "\n",
        "z1=[]\n",
        "final1 =[]\n",
        "\n",
        "  \n",
        "R = int(input()) \n",
        "C = 3\n",
        "d = []\n",
        "z1 = []\n",
        "z2 = []\n",
        "z3 = []\n",
        "for i in range(R):\n",
        "    entries = list(map(int, input().split()))\n",
        "    d.append(entries)\n",
        "n1,n2,n3 = list(map(float,input().split()))\n",
        "\n",
        "\n",
        "a1 = np.array(d)\n",
        "print(a1)  \n",
        "for j in a1[0:R,0]:\n",
        "  b = j*n1\n",
        "  z1.append(b)\n",
        "for c in a1[0:R,1]:\n",
        "  k = c*n2\n",
        "  z2.append(k)\n",
        "\n",
        "for f in a1[:,2]:\n",
        "  g = f*n3\n",
        "  z3.append(g)\n",
        "\n",
        "h1 = np.array([z1])\n",
        "reh1 = np.reshape(h1,(R,1))\n",
        "\n",
        "h2 = np.array([z2])\n",
        "reh2 = np.reshape(h2,(R,1))\n",
        "h3 = np.array([z3])\n",
        "reh3 = np.reshape(h3,(R,1))\n",
        "final = np.dstack((reh1,reh2,reh3))\n",
        "sum = np.sum(final,axis = 1)\n",
        "sumall = np.sum(sum,axis= 1)\n",
        "sumlist = sumall.tolist()\n",
        "for t in sumlist:\n",
        "  print(t)\n",
        "\n",
        "\n",
        "\n",
        "          \n",
        "\n",
        "\n",
        "\n",
        "\n"
      ],
      "execution_count": null,
      "outputs": []
    },
    {
      "cell_type": "code",
      "metadata": {
        "id": "FSGCzWB4aiT4"
      },
      "source": [
        "import numpy as np\n",
        "\n",
        "\n",
        "d = []\n",
        "nin = list(map(int,input().split()))\n",
        "nall = np.array(nin)\n",
        "nre =np.reshape(nall,(4,1))\n",
        "\n",
        "\n",
        "\n",
        "for i in range(4):\n",
        "  entries = list(map(int, input().split()))\n",
        "  d.append(entries)\n",
        "a1 = np.array(d)\n",
        "\n",
        "for j in a1[0:3,0]:\n",
        "  j = np.multiply(a1,nre)\n",
        "  j = np.sum(j,axis=0)\n",
        "  break\n",
        "sumMon = j[0]\n",
        "sumTue = j[1]\n",
        "sumWen = j[2]\n",
        "sumThu = j[3]\n",
        "sumFri = j[4]\n",
        "a2 =np.sum(a1,axis=0)\n",
        "a3 = np.max(a2)\n",
        "\n",
        "for a3 in sumfinal:\n",
        "  if a3==sumMon:\n",
        "    print(\"Mon\",a3)\n",
        "  if a3==sumTue:\n",
        "    print(\"Tue\",a3)\n",
        "  if a3==sumWen:\n",
        "    print(\"Wen\",a3)\n",
        "  if a3==sumThu:\n",
        "    print(\"Thu\",a3)\n",
        "  if a3==sumFri:\n",
        "    print(\"Fri\",a3)\n",
        "  break\n",
        "sumfinal =[sumMon,sumTue,sumWen,sumThu,sumFri]\n",
        "\n",
        "print(sumMon,\" \",sumTue,\" \",sumWen,\" \",sumThu,\" \",sumFri)\n"
      ],
      "execution_count": null,
      "outputs": []
    },
    {
      "cell_type": "code",
      "metadata": {
        "id": "Ikx4bWu6pN3A"
      },
      "source": [
        "pip install numpy"
      ],
      "execution_count": null,
      "outputs": []
    },
    {
      "cell_type": "code",
      "metadata": {
        "id": "km9zUdQ6Shoa"
      },
      "source": [
        "import numpy as np\n",
        "R = int(input())\n",
        "d = []\n",
        "\n",
        "bmi =[]\n",
        "height =[]\n",
        "wait =[]\n",
        "\n",
        "divisor = 100\n",
        "def read_height_weight(R):\n",
        "   for i in range(R):\n",
        "     a = list(map(int, input().split()))\n",
        "     \n",
        "     d.append(a)\n",
        "     b = np.array(d)\n",
        "     \n",
        "   return b\n",
        "     \n",
        "def cm_to_m(R):\n",
        "  read = read_height_weight(R)\n",
        "  tall = read[0:R,0]\n",
        "  tallM = np.divide(tall,divisor)\n",
        "  \n",
        "  return tallM\n",
        "  \n",
        "\n",
        "def cal_bmi(R):\n",
        "  bmi = read_height_weight(R)[0:R,1]\n",
        "  bmito = bmi/cm_to_m(R)**2\n",
        "  return bmito\n",
        "min = np.mean(cal_bmi(R))\n",
        "for i in cal_bmi(R):\n",
        "  if i <=18.5:\n",
        "    print(i,\"underweight\")\n",
        "  if i >25:\n",
        "    print(i,\"overweight\")\n",
        "  if i>= 18.5 and i < 25:\n",
        "    print(i,\"normal\")"
      ],
      "execution_count": null,
      "outputs": []
    },
    {
      "cell_type": "code",
      "metadata": {
        "id": "HCW59uu2Ynmz"
      },
      "source": [
        ""
      ],
      "execution_count": null,
      "outputs": []
    },
    {
      "cell_type": "code",
      "metadata": {
        "id": "GSK7H2V3-WHV"
      },
      "source": [
        ""
      ],
      "execution_count": null,
      "outputs": []
    },
    {
      "cell_type": "markdown",
      "metadata": {
        "id": "i9fsi4H-aiCk"
      },
      "source": [
        ""
      ]
    }
  ]
}